{
 "cells": [
  {
   "cell_type": "markdown",
   "id": "6169f264",
   "metadata": {},
   "source": [
    "## Python ATO Tax Calculator"
   ]
  },
  {
   "cell_type": "markdown",
   "id": "eb4d815d",
   "metadata": {},
   "source": [
    "### Refer from this website for details\n",
    "https://www.ato.gov.au/tax-rates-and-codes/tax-rates-australian-residents#ato-Australianresidentstaxrates2020to2024"
   ]
  },
  {
   "cell_type": "markdown",
   "id": "d8eadd19",
   "metadata": {},
   "source": [
    "## Handling Exceptions"
   ]
  },
  {
   "cell_type": "code",
   "execution_count": 44,
   "id": "3fd6862d",
   "metadata": {},
   "outputs": [
    {
     "name": "stdout",
     "output_type": "stream",
     "text": [
      "Enter your yearly income -1\n",
      "Invalid Income\n"
     ]
    }
   ],
   "source": [
    "#This is to ensure that the income has to be a valid value \n",
    "while True:\n",
    "    try:\n",
    "        income = float(input(\"Enter your yearly income \"))\n",
    "        break\n",
    "    except ValueError:\n",
    "        print(\"Invalid Income\")\n",
    "    \n",
    "#This is to check if income yearly is positive value (including 0)\n",
    "if income < 0:\n",
    "    print(\"Invalid Income\")\n",
    "elif income >= 0:\n",
    "    print(f'\\nYearly Income : ${round(income,2)}')"
   ]
  },
  {
   "cell_type": "markdown",
   "id": "3dfa8cd5",
   "metadata": {},
   "source": [
    "## Here we use the value income based on Resident tax rates 2023–24 to determine how much left is deducted after tax"
   ]
  },
  {
   "cell_type": "code",
   "execution_count": 43,
   "id": "97918c2d",
   "metadata": {},
   "outputs": [
    {
     "name": "stdout",
     "output_type": "stream",
     "text": [
      "Tax Deduction: $24592.0\n",
      "Net-Pay after Tax: $35408.0\n"
     ]
    }
   ],
   "source": [
    "\n",
    "if income >= 18201 and income <= 45000:\n",
    "    deduc = 0.19*income\n",
    "elif income >= 45001 and income <= 120000:\n",
    "    deduc = 0.325*income + 5092 \n",
    "elif income >= 120001 and income <= 180000:\n",
    "    deduc = 29467 + 0.37*income\n",
    "elif income >= 180001:\n",
    "    deduc = 51667 + 0.45*income\n",
    "else:\n",
    "    deduc = 0\n",
    "print(f'Tax Deduction: ${deduc}')\n",
    "takehome = income - deduc\n",
    "print(f'Net-Pay after Tax: ${round(takehome,2)}') \n"
   ]
  },
  {
   "cell_type": "code",
   "execution_count": null,
   "id": "1a1e8561",
   "metadata": {},
   "outputs": [],
   "source": []
  }
 ],
 "metadata": {
  "kernelspec": {
   "display_name": "Python 3 (ipykernel)",
   "language": "python",
   "name": "python3"
  },
  "language_info": {
   "codemirror_mode": {
    "name": "ipython",
    "version": 3
   },
   "file_extension": ".py",
   "mimetype": "text/x-python",
   "name": "python",
   "nbconvert_exporter": "python",
   "pygments_lexer": "ipython3",
   "version": "3.11.5"
  }
 },
 "nbformat": 4,
 "nbformat_minor": 5
}
