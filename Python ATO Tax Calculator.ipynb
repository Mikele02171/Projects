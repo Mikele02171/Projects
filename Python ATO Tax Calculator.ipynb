{
 "cells": [
  {
   "cell_type": "markdown",
   "id": "6169f264",
   "metadata": {},
   "source": [
    "## Python ATO Tax Calculator"
   ]
  },
  {
   "cell_type": "markdown",
   "id": "eb4d815d",
   "metadata": {},
   "source": [
    "### Refer from this website for details\n",
    "https://www.ato.gov.au/tax-rates-and-codes/tax-rates-australian-residents#ato-Australianresidentstaxrates2020to2024"
   ]
  },
  {
   "cell_type": "code",
   "execution_count": 15,
   "id": "86fa0660",
   "metadata": {},
   "outputs": [
    {
     "name": "stdout",
     "output_type": "stream",
     "text": [
      "Enter your yearly income 20000\n",
      "\n",
      "Yearly Income :  20000.0\n"
     ]
    }
   ],
   "source": [
    "income = float(input(\"Enter your yearly income \"))\n",
    "income = round(income,2)\n",
    "print('\\nYearly Income : ', income)"
   ]
  },
  {
   "cell_type": "code",
   "execution_count": 17,
   "id": "97918c2d",
   "metadata": {},
   "outputs": [
    {
     "name": "stdout",
     "output_type": "stream",
     "text": [
      "Deduction:  3800.0\n",
      "Net-Pay after Tax:  16200.0\n"
     ]
    }
   ],
   "source": [
    "#Here I am referring to the Resident tax rates from 2023–24\n",
    "if income >= 18201 and income <= 45000:\n",
    "    deduc = 0.19*income\n",
    "elif income >= 45001 and income <= 120000:\n",
    "    deduc = 0.325*income + 5092 \n",
    "elif income >= 120001 and income <= 180000:\n",
    "    deduc = 29467 + 0.37*income\n",
    "elif income >= 180001:\n",
    "    deduc = 51667 + 45*income\n",
    "else:\n",
    "    deduc = 0\n",
    "print('Deduction: ', deduc)\n",
    "takehome = income -deduc\n",
    "print('Net-Pay after Tax: ', round(takehome,2)) \n"
   ]
  },
  {
   "cell_type": "code",
   "execution_count": null,
   "id": "653a3fdf",
   "metadata": {},
   "outputs": [],
   "source": []
  }
 ],
 "metadata": {
  "kernelspec": {
   "display_name": "Python 3 (ipykernel)",
   "language": "python",
   "name": "python3"
  },
  "language_info": {
   "codemirror_mode": {
    "name": "ipython",
    "version": 3
   },
   "file_extension": ".py",
   "mimetype": "text/x-python",
   "name": "python",
   "nbconvert_exporter": "python",
   "pygments_lexer": "ipython3",
   "version": "3.11.5"
  }
 },
 "nbformat": 4,
 "nbformat_minor": 5
}
