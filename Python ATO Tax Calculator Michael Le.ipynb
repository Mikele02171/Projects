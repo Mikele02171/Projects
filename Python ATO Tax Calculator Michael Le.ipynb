{
 "cells": [
  {
   "cell_type": "markdown",
   "id": "6169f264",
   "metadata": {},
   "source": [
    "# Python ATO Tax Calculator Michael Le"
   ]
  },
  {
   "cell_type": "markdown",
   "id": "eb4d815d",
   "metadata": {},
   "source": [
    "### Refer from this website for details\n",
    "https://www.ato.gov.au/tax-rates-and-codes/tax-rates-australian-residents#ato-Australianresidentstaxrates2020to2024"
   ]
  },
  {
   "cell_type": "markdown",
   "id": "cea9114a",
   "metadata": {},
   "source": [
    "## Handling Exceptions"
   ]
  },
  {
   "cell_type": "code",
   "execution_count": 47,
   "id": "326232ae",
   "metadata": {},
   "outputs": [
    {
     "name": "stdout",
     "output_type": "stream",
     "text": [
      "Enter your yearly income 50000\n",
      "\n",
      "Yearly Income : $50000.0\n"
     ]
    }
   ],
   "source": [
    "#This is to ensure that the income has to be a valid value \n",
    "while True:\n",
    "    try:\n",
    "        income = float(input(\"Enter your yearly income \"))\n",
    "        break\n",
    "    except ValueError:\n",
    "        print(\"Invalid Income\")\n",
    "    \n",
    "#This is to check if income yearly is positive value (including 0)\n",
    "if income < 0:\n",
    "    print(\"Invalid Income\")\n",
    "elif income >= 0:\n",
    "    print(f'\\nYearly Income : ${round(income,2)}')"
   ]
  },
  {
   "cell_type": "markdown",
   "id": "5035c1a3",
   "metadata": {},
   "source": [
    "## Here we use the value income based on Resident tax rates 2023–24 to determine how much left is deducted after tax"
   ]
  },
  {
   "cell_type": "code",
   "execution_count": 48,
   "id": "97918c2d",
   "metadata": {},
   "outputs": [
    {
     "name": "stdout",
     "output_type": "stream",
     "text": [
      "Tax Deduction: $21342.0\n",
      "Net-Pay after Tax: $28658.0\n"
     ]
    }
   ],
   "source": [
    "\n",
    "if income >= 18201 and income <= 45000:\n",
    "    deduc = 0.19*income\n",
    "elif income >= 45001 and income <= 120000:\n",
    "    deduc = 0.325*income + 5092 \n",
    "elif income >= 120001 and income <= 180000:\n",
    "    deduc = 0.37*income + 29467\n",
    "elif income >= 180001:\n",
    "    deduc = 0.45*income + 52667\n",
    "else:\n",
    "    deduc = 0\n",
    "print(f'Tax Deduction: ${deduc}')\n",
    "takehome = income - deduc\n",
    "print(f'Net-Pay after Tax: ${round(takehome,2)}') \n"
   ]
  },
  {
   "cell_type": "code",
   "execution_count": null,
   "id": "1a1e8561",
   "metadata": {},
   "outputs": [],
   "source": []
  }
 ],
 "metadata": {
  "kernelspec": {
   "display_name": "Python 3 (ipykernel)",
   "language": "python",
   "name": "python3"
  },
  "language_info": {
   "codemirror_mode": {
    "name": "ipython",
    "version": 3
   },
   "file_extension": ".py",
   "mimetype": "text/x-python",
   "name": "python",
   "nbconvert_exporter": "python",
   "pygments_lexer": "ipython3",
   "version": "3.11.5"
  }
 },
 "nbformat": 4,
 "nbformat_minor": 5
}
